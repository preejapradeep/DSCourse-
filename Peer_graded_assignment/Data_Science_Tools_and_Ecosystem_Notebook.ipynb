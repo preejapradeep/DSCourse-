{
 "cells": [
  {
   "cell_type": "markdown",
   "id": "18d748f9",
   "metadata": {},
   "source": [
    "# Data Science Tools and Ecosystem"
   ]
  },
  {
   "cell_type": "markdown",
   "id": "83ecb5c6",
   "metadata": {},
   "source": [
    "### Welcome to the Data Science Tools and Ecosystem Notebook!\n",
    "This notebook aims to provide an interactive environment for exploring various data science concepts and techniques.\n"
   ]
  },
  {
   "cell_type": "markdown",
   "id": "e85817e7",
   "metadata": {},
   "source": [
    "**Objectives:**\n",
    "- List popular languages for Data Science.\n",
    "- Explore commonly used libraries in Data Science.\n",
    "- Discuss development environment open source tools used in Data Science.\n",
    "- Understand basic arithmetic operations.\n",
    "- Convert minutes to hours"
   ]
  },
  {
   "cell_type": "markdown",
   "id": "1a5be247",
   "metadata": {},
   "source": [
    "#### Data Science Languages\n",
    "Some of the popular languages that Data Scientists use are:\n",
    "1. Python\n",
    "2. R\n",
    "3. SQL\n",
    "4. Scala\n",
    "5. Java \n",
    "6. Julia\n",
    "7. C++"
   ]
  },
  {
   "cell_type": "markdown",
   "id": "33a2464b",
   "metadata": {},
   "source": [
    "#### Data Science Libraries\n",
    "Some of the commonly used libraries include:\n",
    "1. NumPy\n",
    "2. Pandas\n",
    "3. Matplotlib\n",
    "4. Seaborn\n",
    "5. Scikit-learn\n",
    "6. Keras\n",
    "7. TensorFlow\n",
    "8. Pytorch\n",
    "9. Apache Spark\n",
    "10. SciPy"
   ]
  },
  {
   "cell_type": "markdown",
   "id": "3829e026",
   "metadata": {},
   "source": [
    "####  Data Science Tools\n",
    "Some of the commonly used data science tools are listed in the table below.\n",
    "\n",
    "| Data Science Tools   |\n",
    "|:--------------------:|\n",
    "| Jupyter Notebook     |\n",
    "| RStudio              |\n",
    "| VS Code + Python     |\n",
    "| Anaconda             |\n",
    "| Apache Zeppelin      |\n",
    "| Spyder               |\n",
    "| KNIME                |"
   ]
  },
  {
   "cell_type": "markdown",
   "id": "17c6a0f4",
   "metadata": {},
   "source": [
    "#### Arithmetic Expression Examples\n",
    "Below are a few examples of evaluating arithmetic expressions in Python."
   ]
  },
  {
   "cell_type": "code",
   "execution_count": 47,
   "id": "57041187",
   "metadata": {},
   "outputs": [],
   "source": [
    "# Evaluating arithmetic expression with two integers.\n",
    "x = 40\n",
    "y = 12"
   ]
  },
  {
   "cell_type": "markdown",
   "id": "4ab40a6a",
   "metadata": {},
   "source": [
    "1. Addition"
   ]
  },
  {
   "cell_type": "code",
   "execution_count": 48,
   "id": "352271a1",
   "metadata": {},
   "outputs": [
    {
     "name": "stdout",
     "output_type": "stream",
     "text": [
      "add = 52\n"
     ]
    }
   ],
   "source": [
    "# The sum of integers x and y.\n",
    "add = x + y\n",
    "print('add =', add)"
   ]
  },
  {
   "cell_type": "markdown",
   "id": "2843342f",
   "metadata": {},
   "source": [
    "2. Subtraction: "
   ]
  },
  {
   "cell_type": "code",
   "execution_count": 49,
   "id": "45e26c18",
   "metadata": {},
   "outputs": [
    {
     "name": "stdout",
     "output_type": "stream",
     "text": [
      "sub = 28\n"
     ]
    }
   ],
   "source": [
    "# The difference between integers x and y.\n",
    "sub = x - y\n",
    "print('sub =', sub)"
   ]
  },
  {
   "cell_type": "markdown",
   "id": "1c3ea016",
   "metadata": {},
   "source": [
    "3. Multiplication: "
   ]
  },
  {
   "cell_type": "code",
   "execution_count": 50,
   "id": "f30cb959",
   "metadata": {},
   "outputs": [
    {
     "name": "stdout",
     "output_type": "stream",
     "text": [
      "mul = 480\n"
     ]
    }
   ],
   "source": [
    "# The product of integers x and y.\n",
    "mul = x * y\n",
    "print('mul =', mul)"
   ]
  },
  {
   "cell_type": "markdown",
   "id": "5000ebaa",
   "metadata": {},
   "source": [
    "4. Division:"
   ]
  },
  {
   "cell_type": "code",
   "execution_count": 51,
   "id": "73a69901",
   "metadata": {},
   "outputs": [
    {
     "name": "stdout",
     "output_type": "stream",
     "text": [
      "div = 3.3333333333333335\n"
     ]
    }
   ],
   "source": [
    "# The division of integers x and y.\n",
    "div = x / y\n",
    "print('div =', div)"
   ]
  },
  {
   "cell_type": "markdown",
   "id": "273d58c1",
   "metadata": {},
   "source": [
    "5. Exponentiation: "
   ]
  },
  {
   "cell_type": "code",
   "execution_count": 52,
   "id": "97054545",
   "metadata": {},
   "outputs": [
    {
     "name": "stdout",
     "output_type": "stream",
     "text": [
      "exp = 16777216000000000000\n"
     ]
    }
   ],
   "source": [
    "# This raise the power of x to the power of y.\n",
    "exp = x ** y\n",
    "print('exp =', exp)"
   ]
  },
  {
   "cell_type": "markdown",
   "id": "876a4013",
   "metadata": {},
   "source": [
    "6. Floor division"
   ]
  },
  {
   "cell_type": "code",
   "execution_count": 53,
   "id": "0ce589da",
   "metadata": {},
   "outputs": [
    {
     "name": "stdout",
     "output_type": "stream",
     "text": [
      "flo = 3\n"
     ]
    }
   ],
   "source": [
    "# Finds the floor of the quotient when x is divided by y.\n",
    "flo = x // y\n",
    "print('flo =', flo)"
   ]
  },
  {
   "cell_type": "markdown",
   "id": "e6933e22",
   "metadata": {},
   "source": [
    "7. Modulus"
   ]
  },
  {
   "cell_type": "code",
   "execution_count": 54,
   "id": "02999cee",
   "metadata": {},
   "outputs": [
    {
     "name": "stdout",
     "output_type": "stream",
     "text": [
      "mod = 4\n"
     ]
    }
   ],
   "source": [
    "# The remainder of integers x and y.\n",
    "mod = x % y\n",
    "print('mod =', mod)"
   ]
  },
  {
   "cell_type": "markdown",
   "id": "a0a8f427",
   "metadata": {},
   "source": [
    "#### Multiply and Add Numbers\n",
    "This a simple arithmetic expression to mutiply then add integers"
   ]
  },
  {
   "cell_type": "code",
   "execution_count": 55,
   "id": "db031d4a",
   "metadata": {},
   "outputs": [
    {
     "name": "stdout",
     "output_type": "stream",
     "text": [
      "17\n"
     ]
    }
   ],
   "source": [
    "# Evaluating arithmetic expression with three integers \n",
    "a = 5\n",
    "b = 3\n",
    "c = 2\n",
    "n = (a*b)+c\n",
    "print(n)"
   ]
  },
  {
   "cell_type": "markdown",
   "id": "fcac6b4e",
   "metadata": {},
   "source": [
    "#### Convert minutes to hours\n",
    "This example will convert 200 minutes to hours by dividing by 60"
   ]
  },
  {
   "cell_type": "code",
   "execution_count": 56,
   "id": "02dd5901",
   "metadata": {},
   "outputs": [
    {
     "data": {
      "text/plain": [
       "3.3333333333333335"
      ]
     },
     "execution_count": 56,
     "metadata": {},
     "output_type": "execute_result"
    }
   ],
   "source": [
    "minutes = 200\n",
    "hours = minutes / 60\n",
    "hours"
   ]
  },
  {
   "cell_type": "markdown",
   "id": "c3c6e54c",
   "metadata": {},
   "source": [
    "## Author\n",
    "Preeja Pradeep"
   ]
  }
 ],
 "metadata": {
  "kernelspec": {
   "display_name": "Python 3 (ipykernel)",
   "language": "python",
   "name": "python3"
  },
  "language_info": {
   "codemirror_mode": {
    "name": "ipython",
    "version": 3
   },
   "file_extension": ".py",
   "mimetype": "text/x-python",
   "name": "python",
   "nbconvert_exporter": "python",
   "pygments_lexer": "ipython3",
   "version": "3.9.13"
  }
 },
 "nbformat": 4,
 "nbformat_minor": 5
}
