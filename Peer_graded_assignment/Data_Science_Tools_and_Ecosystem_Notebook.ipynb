{
 "cells": [
  {
   "cell_type": "markdown",
   "id": "76f94b0f",
   "metadata": {},
   "source": [
    "# Data Science Tools and Ecosystem"
   ]
  },
  {
   "cell_type": "markdown",
   "id": "50f15405",
   "metadata": {},
   "source": [
    "### Welcome to the Data Science Tools and Ecosystem Notebook!\n",
    "In this notebook, Data Science Tools and Ecosystem are summarized.\n"
   ]
  },
  {
   "cell_type": "markdown",
   "id": "f19db94c",
   "metadata": {},
   "source": [
    "**Objectives:**\n",
    "- List popular languages for Data Science.\n",
    "- Explore commonly used libraries in Data Science.\n",
    "- Discuss development environment open source tools used in Data Science.\n",
    "- Understand basic arithmetic operations.\n",
    "- Convert minutes to hours"
   ]
  },
  {
   "cell_type": "markdown",
   "id": "47517657",
   "metadata": {},
   "source": [
    "#### Data Science Languages\n",
    "Some of the popular languages that Data Scientists use are:\n",
    "1. Python\n",
    "2. R\n",
    "3. SQL\n",
    "4. Scala\n",
    "5. Java \n",
    "6. Julia\n",
    "7. C++\n",
    "8. PHP\n",
    "9. Go\n",
    "10. Ruby\n",
    "11. Visual Basic\n",
    "12. JavaScript"
   ]
  },
  {
   "cell_type": "markdown",
   "id": "20632c2b",
   "metadata": {},
   "source": [
    "#### Data Science Libraries\n",
    "Some of the commonly used libraries used by Data Scientists include:\n",
    "1. NumPy\n",
    "2. Pandas\n",
    "3. Matplotlib\n",
    "4. Seaborn\n",
    "5. Scikit-learn\n",
    "6. Keras\n",
    "7. TensorFlow\n",
    "8. Pytorch\n",
    "9. Apache Spark\n",
    "10. SciPy"
   ]
  },
  {
   "cell_type": "markdown",
   "id": "088dbdb7",
   "metadata": {},
   "source": [
    "####  Data Science Tools\n",
    "Some of the commonly used data science tools are listed in the table below.\n",
    "\n",
    "| Data Science Tools   |\n",
    "|:--------------------:|\n",
    "| Jupyter Notebook     |\n",
    "| RStudio              |\n",
    "| VS Code + Python     |\n",
    "| Anaconda             |\n",
    "| Apache Zeppelin      |\n",
    "| Spyder               |\n",
    "| KNIME                |"
   ]
  },
  {
   "cell_type": "markdown",
   "id": "1c8f5091",
   "metadata": {},
   "source": [
    "#### Arithmetic Expression Examples\n",
    "Below are a few examples of evaluating arithmetic expressions in Python."
   ]
  },
  {
   "cell_type": "code",
   "execution_count": 1,
   "id": "c312870a",
   "metadata": {},
   "outputs": [],
   "source": [
    "# Evaluating arithmetic expression with two integers.\n",
    "x = 40\n",
    "y = 12"
   ]
  },
  {
   "cell_type": "code",
   "execution_count": 2,
   "id": "20735d68",
   "metadata": {},
   "outputs": [
    {
     "name": "stdout",
     "output_type": "stream",
     "text": [
      "Addition = 52\n"
     ]
    }
   ],
   "source": [
    "# Addition: The sum of integers x and y.\n",
    "add = x + y\n",
    "print('Addition =', add)"
   ]
  },
  {
   "cell_type": "code",
   "execution_count": 3,
   "id": "3fcdc5c2",
   "metadata": {},
   "outputs": [
    {
     "name": "stdout",
     "output_type": "stream",
     "text": [
      "Subtraction = 28\n"
     ]
    }
   ],
   "source": [
    "# Subtraction: The difference between integers x and y.\n",
    "sub = x - y\n",
    "print('Subtraction =', sub)"
   ]
  },
  {
   "cell_type": "code",
   "execution_count": 4,
   "id": "a68f0f44",
   "metadata": {},
   "outputs": [
    {
     "name": "stdout",
     "output_type": "stream",
     "text": [
      "Multiplication = 480\n"
     ]
    }
   ],
   "source": [
    "# Multiplication: The product of integers x and y.\n",
    "mul = x * y\n",
    "print('Multiplication =', mul)"
   ]
  },
  {
   "cell_type": "code",
   "execution_count": 5,
   "id": "45e9f048",
   "metadata": {},
   "outputs": [
    {
     "name": "stdout",
     "output_type": "stream",
     "text": [
      "Division = 3.3333333333333335\n"
     ]
    }
   ],
   "source": [
    "# Division: The division of integers x and y.\n",
    "div = x / y\n",
    "print('Division =', div)"
   ]
  },
  {
   "cell_type": "code",
   "execution_count": 6,
   "id": "f45620b5",
   "metadata": {},
   "outputs": [
    {
     "name": "stdout",
     "output_type": "stream",
     "text": [
      "Exponentiation = 16777216000000000000\n"
     ]
    }
   ],
   "source": [
    "# Exponentiation: This raise the power of x to the power of y.\n",
    "exp = x ** y\n",
    "print('Exponentiation =', exp)"
   ]
  },
  {
   "cell_type": "markdown",
   "id": "52b369b8",
   "metadata": {},
   "source": [
    "#### Multiply and Add Numbers\n",
    "This a simple arithmetic expression to mutiply then add integers"
   ]
  },
  {
   "cell_type": "code",
   "execution_count": 7,
   "id": "ac7d4882",
   "metadata": {},
   "outputs": [
    {
     "data": {
      "text/plain": [
       "17"
      ]
     },
     "execution_count": 7,
     "metadata": {},
     "output_type": "execute_result"
    }
   ],
   "source": [
    "# This a simple arithmetic expression to mutiply then add integers\n",
    "(3*4)+5"
   ]
  },
  {
   "cell_type": "markdown",
   "id": "f9d96302",
   "metadata": {},
   "source": [
    "#### Convert minutes to hours\n",
    "This example will convert 200 minutes to hours by dividing by 60"
   ]
  },
  {
   "cell_type": "code",
   "execution_count": 8,
   "id": "59e804e2",
   "metadata": {},
   "outputs": [
    {
     "name": "stdout",
     "output_type": "stream",
     "text": [
      "200 minutes is equal to 3.3333333333333335 hours.\n"
     ]
    }
   ],
   "source": [
    "# This will convert 200 minutes to hours by dividing by 60\n",
    "minutes = 200\n",
    "hours = minutes / 60\n",
    "print(f\"{minutes} minutes is equal to {hours} hours.\")"
   ]
  },
  {
   "cell_type": "markdown",
   "id": "0fc4051c",
   "metadata": {},
   "source": [
    "## Author\n",
    "Preeja Pradeep"
   ]
  }
 ],
 "metadata": {
  "kernelspec": {
   "display_name": "Python 3 (ipykernel)",
   "language": "python",
   "name": "python3"
  },
  "language_info": {
   "codemirror_mode": {
    "name": "ipython",
    "version": 3
   },
   "file_extension": ".py",
   "mimetype": "text/x-python",
   "name": "python",
   "nbconvert_exporter": "python",
   "pygments_lexer": "ipython3",
   "version": "3.9.13"
  }
 },
 "nbformat": 4,
 "nbformat_minor": 5
}
